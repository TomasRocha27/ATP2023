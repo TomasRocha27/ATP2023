{
 "cells": [
  {
   "cell_type": "markdown",
   "metadata": {},
   "source": [
    "###Feito por Tomás Rocha às 2:34 do dia 21/11/2023"
   ]
  },
  {
   "cell_type": "markdown",
   "metadata": {},
   "source": [
    "## TPC8: Teste de aferição\n",
    "\n",
    "Resolva os problemas apresentados a seguir."
   ]
  },
  {
   "cell_type": "markdown",
   "metadata": {},
   "source": [
    "### tpc-1. Especifique as seguintes listas em compreensão:"
   ]
  },
  {
   "cell_type": "markdown",
   "metadata": {},
   "source": [
    "#### a) Lista formada pelos elementos que não são comuns às duas listas:"
   ]
  },
  {
   "cell_type": "code",
   "execution_count": null,
   "metadata": {},
   "outputs": [],
   "source": [
    "lista1 = [\"a\",\"b\",\"c\",\"d\",\"e\"]\n",
    "lista2 = [\"y\",\"e\",\"k\",\"d\",\"a\"]  \n",
    "excl = []\n",
    "for elem in lista1:\n",
    "    if elem not in lista2:\n",
    "        excl.append(elem)\n",
    "for elemento in lista2:\n",
    "    if elemento not in lista1:\n",
    "        excl.append(elemento)\n",
    "print(excl)"
   ]
  },
  {
   "cell_type": "markdown",
   "metadata": {},
   "source": [
    "#### b) Lista formada pelas palavras do texto compostas por mais de 3 letras:"
   ]
  },
  {
   "cell_type": "code",
   "execution_count": null,
   "metadata": {},
   "outputs": [],
   "source": [
    "texto = \"\"\"O rato roeu a rolha do rei da Rússia.\"\"\"\n",
    "lista = []\n",
    "\n",
    "x = texto.split(\" \")\n",
    "for palavra in x:\n",
    "    if len(palavra) > 3:\n",
    "        lista.append(palavra)\n",
    "print(lista)\n",
    "\n",
    "\n"
   ]
  },
  {
   "cell_type": "markdown",
   "metadata": {},
   "source": [
    "#### c) Lista formada por pares do tipo (índice, valor) com os valores da lista dada:"
   ]
  },
  {
   "cell_type": "code",
   "execution_count": null,
   "metadata": {},
   "outputs": [],
   "source": [
    "lista = ['sporting', 'porto', 'benfica', 'braga']\n",
    "listaRes = []\n",
    "x = 1\n",
    "for palavra in lista:\n",
    "    listaRes.append( str(x) +\",\"+ palavra)\n",
    "    x = x + 1\n",
    "print(listaRes)\n",
    "\n"
   ]
  },
  {
   "cell_type": "markdown",
   "metadata": {},
   "source": [
    "### tpc-2. À semelhança do que foi feito nas aulas, realize as seguintes tarefas:"
   ]
  },
  {
   "cell_type": "markdown",
   "metadata": {},
   "source": [
    "#### a) Especifique uma função que dada uma string e uma substring não vazia, calcula  o número de vezes em que a substring aparece na string, sem que haja sobreposição de substrings:"
   ]
  },
  {
   "cell_type": "code",
   "execution_count": null,
   "metadata": {},
   "outputs": [],
   "source": [
    "def strCount(s, subs):\n",
    "    res = 0\n",
    "    index = 0\n",
    "    while index < len(s):\n",
    "        index = s.find(subs, index)\n",
    "        if index == -1:\n",
    "            break\n",
    "        res = res + 1\n",
    "        index = index + len(subs)\n",
    "\n",
    "    return res\n",
    "\n",
    "print(strCount(\"substring\", \"s\"))\n",
    "print(strCount(\"substring\", \"str\"))\n",
    "print(strCount(\"substring\", \"as\"))"
   ]
  },
  {
   "cell_type": "markdown",
   "metadata": {},
   "source": [
    "#### b) Especifique uma função que recebe uma lista de números inteiros positivos e devolve o menor produto que for possível calcular multiplicando os 3 menores inteiros da lista:"
   ]
  },
  {
   "cell_type": "code",
   "execution_count": null,
   "metadata": {},
   "outputs": [],
   "source": [
    "def produtoM3(lista):\n",
    "    lista1 =sorted(lista)\n",
    "    return  lista1[0]* lista1[1]* lista1[2]\n",
    "\n",
    "print(produtoM3([32,23,15,36,9,12,55]))\n"
   ]
  },
  {
   "cell_type": "markdown",
   "metadata": {},
   "source": [
    "#### c) Especifique uma função que dado um número inteiro positivo, repetidamente adiciona os seus dígitos até obter apenas um dígito que é retornado como resultado:"
   ]
  },
  {
   "cell_type": "code",
   "execution_count": null,
   "metadata": {},
   "outputs": [],
   "source": [
    "\n",
    "def reduxInt(n):\n",
    "    \n",
    "    while n>10:\n",
    "        soma=0\n",
    "        for digito in str(n):\n",
    "            soma+=int(digito)\n",
    "        n=soma\n",
    "    \n",
    "    return n\n",
    "reduxInt(779)\n"
   ]
  },
  {
   "cell_type": "markdown",
   "metadata": {},
   "source": [
    "#### d) Especifique uma função que recebe duas strings, `string1` e `string2`, e devolve o índice da primeira ocorrência de `string2` em `string1`, caso não ocorra nenhuma vez a função deverá retornar `-1`:"
   ]
  },
  {
   "cell_type": "code",
   "execution_count": null,
   "metadata": {},
   "outputs": [],
   "source": [
    "def myIndexOf(s1, s2):\n",
    "    for i in range(len(s1) - len(s2) + 1):\n",
    "        if s1[i:i+len(s2)] == s2:\n",
    "            return i\n",
    "    return -1\n",
    "    \n",
    "myIndexOf(\"Amsterdam\",\"dam\")"
   ]
  },
  {
   "cell_type": "markdown",
   "metadata": {},
   "source": [
    "### tpc-3. A Rede Social\n",
    "\n",
    "Considere que a informação sobre uma rede social está armazenada numa lista de dicionários.\n",
    "\n",
    "Cada dicionário, correspondente a um _post_ e tem chaves `id`, `conteudo`, `autor`, `dataCriacao` e `comentarios`.\n",
    "Por sua vez, `comentarios` é uma lista de dicionários com chaves `comentario` e `autor`.\n",
    "\n",
    "Considere o seguinte exemplo:\n",
    "\n",
    "``` \n",
    "    MyFaceBook = [{\n",
    "        'id': 'p1', \n",
    "        'conteudo': 'A tarefa de avaliação é talvez a mais ingrata das tarefas que um professor\n",
    "    tem de realizar...', \n",
    "        'autor': 'jcr', \n",
    "        'dataCriacao': '2023-07-20', \n",
    "        'comentarios': [\n",
    "            {\n",
    "                'comentario': 'Completamente de acordo...',\n",
    "                'autor': 'prh'\n",
    "            },\n",
    "            {\n",
    "                'comentario': 'Mas há quem goste...',\n",
    "                'autor': 'jj'\n",
    "            }\n",
    "        ]},\n",
    "        {\n",
    "            'id': 'p2',\n",
    "            ...\n",
    "        },\n",
    "        ...\n",
    "        ]\n",
    "```"
   ]
  },
  {
   "cell_type": "code",
   "execution_count": 11,
   "metadata": {},
   "outputs": [],
   "source": [
    "MyFaceBook = [{\n",
    "        'id': 'p1', \n",
    "        'conteudo': 'A tarefa de avaliação é talvez a mais ingrata das tarefas que um professor tem de realizar...', \n",
    "        'autor': 'jcr', \n",
    "        'dataCriacao': '2023-07-20', \n",
    "        'comentarios': [\n",
    "            {\n",
    "                'comentario': 'Completamente de acordo...',\n",
    "                'autor': 'prh'\n",
    "            },\n",
    "            {\n",
    "                'comentario': 'Mas há quem goste...',\n",
    "                'autor': 'jj'\n",
    "            }\n",
    "        ]},\n",
    "        {\n",
    "            'id': 'p2',\n",
    "            'conteudo': 'sporting allezz', \n",
    "        'autor': 'tr27xd', \n",
    "        'dataCriacao': '2023-07-20', \n",
    "        'comentarios': [\n",
    "            {\n",
    "                'comentario': 'Completamente de acordo...',\n",
    "                'autor': 'prh'\n",
    "            },\n",
    "            {\n",
    "                'comentario': 'Mas há quem goste...',\n",
    "                'autor': 'jj'\n",
    "            }\n",
    "        ]}\n",
    "        ]"
   ]
  },
  {
   "cell_type": "markdown",
   "metadata": {},
   "source": [
    "Defina as seguintes funções de manipulação e consulta da rede social:"
   ]
  },
  {
   "cell_type": "markdown",
   "metadata": {},
   "source": [
    "#### a) `quantosPost`, que indica quantos posts estão registados:"
   ]
  },
  {
   "cell_type": "code",
   "execution_count": null,
   "metadata": {},
   "outputs": [],
   "source": [
    "def quantosPost(redeSocial):\n",
    "    \n",
    "    return len(redeSocial)\n",
    "quantosPost(MyFaceBook)"
   ]
  },
  {
   "cell_type": "markdown",
   "metadata": {},
   "source": [
    "#### b)  `postsAutor`, que devolve a lista de posts de um determinado autor:"
   ]
  },
  {
   "cell_type": "code",
   "execution_count": null,
   "metadata": {},
   "outputs": [],
   "source": [
    "def postsAutor(redeSocial, autor):\n",
    "    lista=[]\n",
    "    for post in redeSocial:\n",
    "        if post[\"autor\"]==autor:\n",
    "            lista.append(post)\n",
    "    return lista\n",
    "postsAutor(MyFaceBook,\"jcr\")"
   ]
  },
  {
   "cell_type": "markdown",
   "metadata": {},
   "source": [
    "#### c) `autores`, que devolve a lista de autores de posts ordenada alfabeticamente:"
   ]
  },
  {
   "cell_type": "code",
   "execution_count": null,
   "metadata": {},
   "outputs": [],
   "source": [
    "def autores(redeSocial):\n",
    "    lista=[]\n",
    "    for post in redeSocial:\n",
    "        lista.append(post[\"autor\"])\n",
    "\n",
    "        \n",
    "    \n",
    "    return  lista\n",
    "autores(MyFaceBook) "
   ]
  },
  {
   "cell_type": "markdown",
   "metadata": {},
   "source": [
    "#### d) `insPost`, que acrescenta um novo post à rede social a partir dos parâmetros recebidos e devolve a nova rede social. \n",
    "    \n",
    "O campo `id` devrá ser calculado a partir dos já existentes, por exemplo, se a rede tiver posts com id `p1`, `p2` e `p3`, o novo `id` deverá ser `p4`."
   ]
  },
  {
   "cell_type": "code",
   "execution_count": null,
   "metadata": {},
   "outputs": [],
   "source": [
    "def insPost(redeSocial, conteudo, autor, dataCriacao, comentarios):\n",
    "    novopost={}\n",
    "    \n",
    "    ultimoPost=redeSocial[-1]\n",
    "    id_1=ultimoPost[\"id\"]\n",
    "    idnovo=\"p\"+f\"{int(id_1[1])+1}\"\n",
    "    y=-1\n",
    "    comentarios=[]\n",
    "    while y!=\"0\":\n",
    "        y=input(\"Insira o comentário e respetivo autor separados por virgula...Quando já não quiser adicionar novos comentários insira '0'\")\n",
    "        if y!=\"0\":\n",
    "            comment,autorComment=y.split(\",\")\n",
    "            comentario={\"comentário\":comment,\"autor\":autorComment}\n",
    "            comentarios.append(comentario)\n",
    "    novopost={\"id\":idnovo,\"conteudo\":conteudo,\"autor\":autor,\"dataCriacao\":dataCriacao,\"comentarios\":comentarios}\n",
    "    redeSocial.append(novopost)\n",
    "insPost(MyFaceBook,input(\"Escreva o contúdo do seu post...\"),input(\"Escreva o nome do autor...\"),input(\"Insira a data do post no seguinte formato: AAAA-MM-DD\"),\"comentarios\")\n",
    "print(MyFaceBook)\n"
   ]
  },
  {
   "cell_type": "markdown",
   "metadata": {},
   "source": [
    "#### e)  `remPost`, que remove um post da rede, correspondente ao `id` recebido."
   ]
  },
  {
   "cell_type": "code",
   "execution_count": 7,
   "metadata": {},
   "outputs": [],
   "source": [
    "def remPost(redeSocial, id):\n",
    "    post={}\n",
    "    ident=f\"p{id}\"\n",
    "    \n",
    "    for posts in redeSocial:\n",
    "        if posts[\"id\"]==ident:\n",
    "            post=posts\n",
    "    data=post[\"dataCriacao\"]\n",
    "    conteudo=post[\"conteudo\"]\n",
    "    if input(f\"Tem a certeza que quer apagar este post? Conteúdo: {conteudo}, Data: {data}\\nPara confirmar digite 'Sim'.\")==\"Sim\":\n",
    "        del redeSocial[id-1]\n",
    "    return \n",
    "remPost(MyFaceBook,3)\n"
   ]
  },
  {
   "cell_type": "markdown",
   "metadata": {},
   "source": [
    "#### f) `postsPorAutor`, que devolve uma distribuição de posts por autor (à semelhança do que foi feito nas aulas)."
   ]
  },
  {
   "cell_type": "code",
   "execution_count": null,
   "metadata": {},
   "outputs": [],
   "source": [
    "def listaAutores(redeSocial):\n",
    "    posts_por_autor = {}\n",
    "        \n",
    "    for post in redeSocial:\n",
    "        autor = post['autor']\n",
    "        if autor in posts_por_autor:\n",
    "            posts_por_autor[autor].append(post)\n",
    "        else:\n",
    "            posts_por_autor[autor] = [post]\n",
    "    return posts_por_autor\n",
    "listaAutores(MyFaceBook)"
   ]
  },
  {
   "cell_type": "code",
   "execution_count": null,
   "metadata": {},
   "outputs": [],
   "source": [
    "def postsPorAutor(redeSocial):\n",
    "    import matplotlib.pyplot as plt\n",
    "    posts_por_autor = {}\n",
    "    cont_autores={}\n",
    "    autores=[]\n",
    "    \n",
    "    for post in redeSocial:\n",
    "        autor = post['autor']\n",
    "        if autor in posts_por_autor:\n",
    "            posts_por_autor[autor].append(post)\n",
    "        else:\n",
    "            posts_por_autor[autor] = [post]\n",
    "        autores.append(autor)\n",
    "    for autor in autores:\n",
    "        if autor in cont_autores:\n",
    "            cont_autores[autor] += 1\n",
    "        else:\n",
    "            cont_autores[autor] = 1\n",
    "\n",
    "    xValores =list(cont_autores.keys())\n",
    "    yValores = list(cont_autores.values())\n",
    "\n",
    "    plt.bar(xValores, yValores, color='skyblue')\n",
    "\n",
    "    plt.xlabel(\"autores\")\n",
    "    \n",
    "    plt.title(\"distribuição de posts por autor\")\n",
    "\n",
    "    plt.show()\n",
    "    return posts_por_autor\n",
    "    \n",
    "\n",
    "\n",
    "postsPorAutor(MyFaceBook)\n",
    "\n"
   ]
  },
  {
   "cell_type": "code",
   "execution_count": null,
   "metadata": {},
   "outputs": [],
   "source": [
    "def postsPorAutorPlot(redeSocial):\n",
    "    autores=[]\n",
    "    import matplotlib.pyplot as plt\n",
    "    for post in redeSocial:\n",
    "        autores.append(post[\"autor\"])\n",
    "    \n",
    "\n",
    "    dic_autores = {}\n",
    "    for autor in autores:\n",
    "        if autor in dic_autores:\n",
    "            dic_autores[autor] += 1\n",
    "        else:\n",
    "            dic_autores[autor] = 1\n",
    "\n",
    "    xValores =list(dic_autores.keys())\n",
    "    yValores = list(dic_autores.values())\n",
    "\n",
    "    plt.bar(xValores, yValores, color='skyblue')\n",
    "\n",
    "    plt.xlabel(\"autores\")\n",
    "    \n",
    "    plt.title(\"distribuição de posts por autor\")\n",
    "\n",
    "    plt.show()\n",
    "\n",
    "\n",
    "    return \n",
    "postsPorAutor(MyFaceBook)"
   ]
  },
  {
   "cell_type": "markdown",
   "metadata": {},
   "source": [
    "#### g) `comentadoPor`, que recebe um autor e devolve a lista de posts comentados por esse autor."
   ]
  },
  {
   "cell_type": "code",
   "execution_count": null,
   "metadata": {},
   "outputs": [],
   "source": [
    "def comentadoPor(redeSocial, autor):\n",
    "    lista=[]\n",
    "    for posts in redeSocial:\n",
    "        if \"comentarios\" in posts:\n",
    "        \n",
    "            for comentario in posts[\"comentarios\"]:\n",
    "                if comentario[\"autor\"]==f\"{autor}\":\n",
    "                    lista.append(posts)\n",
    "    \n",
    "    return lista\n",
    "comentadoPor(MyFaceBook,input(\"Escreva o contúdo do seu post...\"))\n"
   ]
  }
 ],
 "metadata": {
  "kernelspec": {
   "display_name": "Python 3",
   "language": "python",
   "name": "python3"
  },
  "language_info": {
   "codemirror_mode": {
    "name": "ipython",
    "version": 3
   },
   "file_extension": ".py",
   "mimetype": "text/x-python",
   "name": "python",
   "nbconvert_exporter": "python",
   "pygments_lexer": "ipython3",
   "version": "3.12.0"
  }
 },
 "nbformat": 4,
 "nbformat_minor": 2
}
